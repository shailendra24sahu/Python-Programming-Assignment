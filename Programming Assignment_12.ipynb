{
 "cells": [
  {
   "cell_type": "markdown",
   "id": "34c0e349",
   "metadata": {},
   "source": [
    "1. Write a Python program to Extract Unique values dictionary values?"
   ]
  },
  {
   "cell_type": "code",
   "execution_count": 1,
   "id": "94ba6205",
   "metadata": {},
   "outputs": [
    {
     "name": "stdout",
     "output_type": "stream",
     "text": [
      "Unique values in the dictionary are: {1, 2, 3, 4}\n"
     ]
    }
   ],
   "source": [
    "my_dict = {'a': 1, 'b': 2, 'c': 2, 'd': 3, 'e': 4, 'f': 4}\n",
    "\n",
    "unique_values = set(my_dict.values())\n",
    "\n",
    "print(\"Unique values in the dictionary are:\", unique_values)"
   ]
  },
  {
   "cell_type": "code",
   "execution_count": null,
   "id": "5734f515",
   "metadata": {},
   "outputs": [],
   "source": []
  },
  {
   "cell_type": "markdown",
   "id": "a15854f5",
   "metadata": {},
   "source": [
    "2. Write a Python program to find the sum of all items in a dictionary?"
   ]
  },
  {
   "cell_type": "code",
   "execution_count": 2,
   "id": "80b59373",
   "metadata": {},
   "outputs": [
    {
     "name": "stdout",
     "output_type": "stream",
     "text": [
      "Sum of all items in the dictionary is: 10\n"
     ]
    }
   ],
   "source": [
    "my_dict = {'a': 1, 'b': 2, 'c': 3, 'd': 4}\n",
    "\n",
    "sum_of_items = sum(my_dict.values())\n",
    "\n",
    "print(\"Sum of all items in the dictionary is:\", sum_of_items)"
   ]
  },
  {
   "cell_type": "code",
   "execution_count": null,
   "id": "b671c602",
   "metadata": {},
   "outputs": [],
   "source": []
  },
  {
   "cell_type": "markdown",
   "id": "12864bac",
   "metadata": {},
   "source": [
    "3. Write a Python program to Merging two Dictionaries?"
   ]
  },
  {
   "cell_type": "code",
   "execution_count": 3,
   "id": "2502aaee",
   "metadata": {},
   "outputs": [
    {
     "name": "stdout",
     "output_type": "stream",
     "text": [
      "Merged dictionary: {'a': 1, 'b': 2, 'c': 3, 'd': 4}\n"
     ]
    }
   ],
   "source": [
    "dict1 = {'a': 1, 'b': 2}\n",
    "dict2 = {'c': 3, 'd': 4}\n",
    "\n",
    "merged_dict = {**dict1, **dict2}\n",
    "\n",
    "print(\"Merged dictionary:\", merged_dict)"
   ]
  },
  {
   "cell_type": "code",
   "execution_count": null,
   "id": "20ab41dc",
   "metadata": {},
   "outputs": [],
   "source": []
  },
  {
   "cell_type": "markdown",
   "id": "f9e81356",
   "metadata": {},
   "source": [
    "4. Write a Python program to convert key-values list to flat dictionary?"
   ]
  },
  {
   "cell_type": "code",
   "execution_count": 4,
   "id": "356fc161",
   "metadata": {},
   "outputs": [
    {
     "name": "stdout",
     "output_type": "stream",
     "text": [
      "Flat dictionary is: {'key1': 1, 'key2': 2, 'key3': 3, 'key4': 4}\n"
     ]
    }
   ],
   "source": [
    "key_value_list = [('key1', 1), ('key2', 2), ('key3', 3), ('key4', 4)]\n",
    "\n",
    "flat_dict = dict(key_value_list)\n",
    "\n",
    "print(\"Flat dictionary is:\", flat_dict)"
   ]
  },
  {
   "cell_type": "code",
   "execution_count": null,
   "id": "c3f702d6",
   "metadata": {},
   "outputs": [],
   "source": []
  },
  {
   "cell_type": "markdown",
   "id": "96e890cd",
   "metadata": {},
   "source": [
    "5. Write a Python program to insertion at the beginning in OrderedDict?"
   ]
  },
  {
   "cell_type": "code",
   "execution_count": 7,
   "id": "f08b1c1b",
   "metadata": {},
   "outputs": [
    {
     "name": "stdout",
     "output_type": "stream",
     "text": [
      "Original OrderedDict is: OrderedDict([('key1', 1), ('key2', 2), ('key3', 3), ('key4', 4)])\n",
      "OrderedDict after inserting at the beginning: OrderedDict([('key0', 0), ('key1', 1), ('key2', 2), ('key3', 3), ('key4', 4)])\n"
     ]
    }
   ],
   "source": [
    "from collections import OrderedDict\n",
    "\n",
    "ordered_dict = OrderedDict([('key1', 1), ('key2', 2), ('key3', 3), ('key4', 4)])\n",
    "\n",
    "print(\"Original OrderedDict is:\", ordered_dict)\n",
    "\n",
    "# Inserting at the beginning of OrderedDict\n",
    "ordered_dict.update({'key0': 0})\n",
    "ordered_dict.move_to_end('key0', last = False)\n",
    "\n",
    "print(\"OrderedDict after inserting at the beginning:\", ordered_dict)"
   ]
  },
  {
   "cell_type": "code",
   "execution_count": null,
   "id": "b6aaae75",
   "metadata": {},
   "outputs": [],
   "source": []
  },
  {
   "cell_type": "markdown",
   "id": "0918a037",
   "metadata": {},
   "source": [
    "6. Write a Python program to check order of character in string using OrderedDict()?"
   ]
  },
  {
   "cell_type": "code",
   "execution_count": 7,
   "id": "a20b24e2",
   "metadata": {},
   "outputs": [
    {
     "name": "stdout",
     "output_type": "stream",
     "text": [
      "True\n"
     ]
    }
   ],
   "source": [
    "from collections import OrderedDict\n",
    " \n",
    "def checkOrder(input, pattern):\n",
    "     \n",
    "    # create empty OrderedDict\n",
    "    # output will be like {'a': None,'b': None, 'c': None}\n",
    "    dict = OrderedDict.fromkeys(input)\n",
    " \n",
    "    # traverse generated OrderedDict parallel with pattern string to check if order of characters are same or not\n",
    "    ptrlen = 0\n",
    "    for key,value in dict.items():\n",
    "        if (key == pattern[ptrlen]):\n",
    "            ptrlen = ptrlen + 1\n",
    "         \n",
    "        # check if we have traverse complete pattern string\n",
    "        if (ptrlen == (len(pattern))):\n",
    "            return 'True'\n",
    " \n",
    "    # if we come out from for loop that means order was mismatched\n",
    "    return 'False'\n",
    " \n",
    "# Driver program\n",
    "if __name__ == \"__main__\":\n",
    "    input = 'engineers rock'\n",
    "    pattern = 'er'\n",
    "    print (checkOrder(input,pattern))"
   ]
  },
  {
   "cell_type": "code",
   "execution_count": null,
   "id": "6beb8eae",
   "metadata": {},
   "outputs": [],
   "source": []
  },
  {
   "cell_type": "markdown",
   "id": "37cdc774",
   "metadata": {},
   "source": [
    "7. Write a Python program to sort Python Dictionaries by Key or Value?"
   ]
  },
  {
   "cell_type": "code",
   "execution_count": 10,
   "id": "88dc1ebe",
   "metadata": {},
   "outputs": [
    {
     "name": "stdout",
     "output_type": "stream",
     "text": [
      "Sorted by Key: {'a': 10, 'b': 3, 'c': 5, 'd': 1}\n",
      "Sorted by Value: {'d': 1, 'b': 3, 'c': 5, 'a': 10}\n"
     ]
    }
   ],
   "source": [
    "# Define a dictionary\n",
    "unsorted_dict = {'c': 5, 'a': 10, 'd': 1, 'b': 3}\n",
    "\n",
    "# Sort the dictionary by key\n",
    "sorted_dict_by_key = dict(sorted(unsorted_dict.items()))\n",
    "\n",
    "# Sort the dictionary by value\n",
    "sorted_dict_by_value = dict(sorted(unsorted_dict.items(), key=lambda x: x[1]))\n",
    "\n",
    "# Print the results\n",
    "print(\"Sorted by Key:\", sorted_dict_by_key)\n",
    "print(\"Sorted by Value:\", sorted_dict_by_value)\n"
   ]
  },
  {
   "cell_type": "code",
   "execution_count": null,
   "id": "9bb2174d",
   "metadata": {},
   "outputs": [],
   "source": []
  }
 ],
 "metadata": {
  "kernelspec": {
   "display_name": "Python 3 (ipykernel)",
   "language": "python",
   "name": "python3"
  },
  "language_info": {
   "codemirror_mode": {
    "name": "ipython",
    "version": 3
   },
   "file_extension": ".py",
   "mimetype": "text/x-python",
   "name": "python",
   "nbconvert_exporter": "python",
   "pygments_lexer": "ipython3",
   "version": "3.9.12"
  }
 },
 "nbformat": 4,
 "nbformat_minor": 5
}
