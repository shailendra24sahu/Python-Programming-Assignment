{
 "cells": [
  {
   "cell_type": "markdown",
   "id": "9871ee53",
   "metadata": {},
   "source": [
    "Question1. Create a function that takes three arguments a, b, c and returns the sum of the\n",
    "numbers that are evenly divided by c from the range a, b inclusive.\n",
    "Examples\n",
    "- evenly_divisible(1, 10, 20) ➞ 0, \n",
    "  No number between 1 and 10 can be evenly divided by 20."
   ]
  },
  {
   "cell_type": "code",
   "execution_count": 1,
   "id": "265d5d33",
   "metadata": {},
   "outputs": [],
   "source": [
    "def evenly_divisible(a, b, c):\n",
    "    # Initialize the sum to 0\n",
    "    sum = 0\n",
    "    # Iterate over the range a to b (inclusive)\n",
    "    for num in range(a, b+1):\n",
    "        # Check if num is evenly divisible by c\n",
    "        if num % c == 0:\n",
    "            # If it is, add it to the sum\n",
    "            sum += num\n",
    "    # Return the sum\n",
    "    return sum\n"
   ]
  },
  {
   "cell_type": "code",
   "execution_count": 4,
   "id": "61bba995",
   "metadata": {},
   "outputs": [
    {
     "data": {
      "text/plain": [
       "0"
      ]
     },
     "execution_count": 4,
     "metadata": {},
     "output_type": "execute_result"
    }
   ],
   "source": [
    "evenly_divisible(1, 10, 20)"
   ]
  },
  {
   "cell_type": "code",
   "execution_count": null,
   "id": "53a9785b",
   "metadata": {},
   "outputs": [],
   "source": []
  },
  {
   "cell_type": "markdown",
   "id": "28385553",
   "metadata": {},
   "source": [
    "Question2. Create a function that returns True if a given inequality expression is correct and\n",
    "False otherwise.\n",
    "- Examples\n",
    "  correct_signs(&quot;3 &lt; 7 &lt; 11&quot;) ➞ True"
   ]
  },
  {
   "cell_type": "code",
   "execution_count": 11,
   "id": "c68800ac",
   "metadata": {},
   "outputs": [],
   "source": [
    "def correct_signs(expression):\n",
    "    # Split the expression into segments between the operators\n",
    "    segments = expression.split()\n",
    "    # Check each segment to ensure that it satisfies the operator between it and the next segment\n",
    "    for i in range(0, len(segments)-2, 2):\n",
    "        left = int(segments[i])\n",
    "        operator = segments[i+1]\n",
    "        right = int(segments[i+2])\n",
    "        if operator == '<':\n",
    "            if not left < right:\n",
    "                return False\n",
    "        elif operator == '>':\n",
    "            if not left > right:\n",
    "                return False\n",
    "        elif operator == '<=':\n",
    "            if not left <= right:\n",
    "                return False\n",
    "        elif operator == '>=':\n",
    "            if not left >= right:\n",
    "                return False\n",
    "        elif operator == '!=':\n",
    "            if not left != right:\n",
    "                return False\n",
    "        elif operator == '==':\n",
    "            if not left == right:\n",
    "                return False\n",
    "        else:\n",
    "            # Invalid operator\n",
    "            raise ValueError(f\"Invalid operator: {operator}\")\n",
    "    # If all segments pass, the expression is correct\n",
    "    return True"
   ]
  },
  {
   "cell_type": "code",
   "execution_count": 12,
   "id": "e8880601",
   "metadata": {},
   "outputs": [
    {
     "data": {
      "text/plain": [
       "True"
      ]
     },
     "execution_count": 12,
     "metadata": {},
     "output_type": "execute_result"
    }
   ],
   "source": [
    "correct_signs(\"3 < 7 < 11\")"
   ]
  },
  {
   "cell_type": "code",
   "execution_count": 14,
   "id": "3a6d69f2",
   "metadata": {},
   "outputs": [
    {
     "data": {
      "text/plain": [
       "False"
      ]
     },
     "execution_count": 14,
     "metadata": {},
     "output_type": "execute_result"
    }
   ],
   "source": [
    "correct_signs(\"13 > 44 > 33 > 1\")"
   ]
  },
  {
   "cell_type": "code",
   "execution_count": null,
   "id": "7307f57d",
   "metadata": {},
   "outputs": [],
   "source": []
  },
  {
   "cell_type": "markdown",
   "id": "38b4db97",
   "metadata": {},
   "source": [
    "Question3. Create a function that replaces all the vowels in a string with a specified character.\n",
    "- Examples :\n",
    "  replace_vowels(&quot;the aardvark&quot;, &quot;#&quot;) ➞ &quot;th# ##rdv#rk&quot;"
   ]
  },
  {
   "cell_type": "code",
   "execution_count": 15,
   "id": "0625d9a4",
   "metadata": {},
   "outputs": [],
   "source": [
    "def replace_vowels(string, replacement):\n",
    "    # Define a set of vowels\n",
    "    vowels = set('aeiouAEIOU')\n",
    "    # Use a list comprehension to replace each vowel in the string with the replacement character\n",
    "    new_string = ''.join([replacement if c in vowels else c for c in string])\n",
    "    # Return the new string\n",
    "    return new_string"
   ]
  },
  {
   "cell_type": "code",
   "execution_count": 16,
   "id": "07210a81",
   "metadata": {},
   "outputs": [
    {
     "data": {
      "text/plain": [
       "'th# ##rdv#rk'"
      ]
     },
     "execution_count": 16,
     "metadata": {},
     "output_type": "execute_result"
    }
   ],
   "source": [
    "replace_vowels(\"the aardvark\", \"#\")"
   ]
  },
  {
   "cell_type": "code",
   "execution_count": null,
   "id": "059c70c9",
   "metadata": {},
   "outputs": [],
   "source": []
  },
  {
   "cell_type": "markdown",
   "id": "64dc8e32",
   "metadata": {},
   "source": [
    "Question4. Write a function that calculates the factorial of a number recursively.\n",
    "Examples\n",
    "factorial(5) ➞ 120"
   ]
  },
  {
   "cell_type": "code",
   "execution_count": 19,
   "id": "6bb9375c",
   "metadata": {},
   "outputs": [],
   "source": [
    "def factorial(n):\n",
    "    # Base case: if n is 0 or 1, return 1\n",
    "    if n == 0 or n == 1:\n",
    "        return 1\n",
    "    # Recursive case: calculate n times the factorial of n-1\n",
    "    else:\n",
    "        return n * factorial(n-1)"
   ]
  },
  {
   "cell_type": "code",
   "execution_count": 20,
   "id": "72515f64",
   "metadata": {},
   "outputs": [
    {
     "data": {
      "text/plain": [
       "120"
      ]
     },
     "execution_count": 20,
     "metadata": {},
     "output_type": "execute_result"
    }
   ],
   "source": [
    "factorial(5)"
   ]
  },
  {
   "cell_type": "code",
   "execution_count": null,
   "id": "8e1bdd0f",
   "metadata": {},
   "outputs": [],
   "source": []
  },
  {
   "cell_type": "markdown",
   "id": "caab8f0b",
   "metadata": {},
   "source": [
    "Question 5\n",
    "Hamming distance is the number of characters that differ between two strings.\n",
    "To illustrate:\n",
    "- String1: &quot;abcbba&quot;\n",
    "- String2: &quot;abcbda&quot;\n",
    "- Hamming Distance: 1 - &quot;b&quot; vs. &quot;d&quot; is the only difference.\n",
    "\n",
    "Create a function that computes the hamming distance between two strings."
   ]
  },
  {
   "cell_type": "code",
   "execution_count": 23,
   "id": "afa4be2e",
   "metadata": {},
   "outputs": [],
   "source": [
    "def hamming_distance(s1, s2):\n",
    "    # Check that the two strings have equal length\n",
    "    if len(s1) != len(s2):\n",
    "        raise ValueError(\"Strings must have equal length\")\n",
    "    # Initialize a count of the number of different characters\n",
    "    count = 0\n",
    "    # Iterate over the characters in the strings and count the number of differences\n",
    "    for i in range(len(s1)):\n",
    "        if s1[i] != s2[i]:\n",
    "            count += 1\n",
    "    # Return the count of differences\n",
    "    return count"
   ]
  },
  {
   "cell_type": "code",
   "execution_count": 24,
   "id": "7c05d9a5",
   "metadata": {},
   "outputs": [
    {
     "data": {
      "text/plain": [
       "5"
      ]
     },
     "execution_count": 24,
     "metadata": {},
     "output_type": "execute_result"
    }
   ],
   "source": [
    "hamming_distance(\"abcde\", \"bcdef\")"
   ]
  },
  {
   "cell_type": "code",
   "execution_count": 26,
   "id": "ecece38d",
   "metadata": {},
   "outputs": [
    {
     "data": {
      "text/plain": [
       "1"
      ]
     },
     "execution_count": 26,
     "metadata": {},
     "output_type": "execute_result"
    }
   ],
   "source": [
    "hamming_distance(\"strong\", \"strung\")"
   ]
  },
  {
   "cell_type": "code",
   "execution_count": null,
   "id": "2efa413a",
   "metadata": {},
   "outputs": [],
   "source": []
  }
 ],
 "metadata": {
  "kernelspec": {
   "display_name": "Python 3 (ipykernel)",
   "language": "python",
   "name": "python3"
  },
  "language_info": {
   "codemirror_mode": {
    "name": "ipython",
    "version": 3
   },
   "file_extension": ".py",
   "mimetype": "text/x-python",
   "name": "python",
   "nbconvert_exporter": "python",
   "pygments_lexer": "ipython3",
   "version": "3.9.12"
  }
 },
 "nbformat": 4,
 "nbformat_minor": 5
}
