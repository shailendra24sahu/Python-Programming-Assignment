{
 "cells": [
  {
   "cell_type": "markdown",
   "id": "648bcd13",
   "metadata": {},
   "source": [
    "Question 1\n",
    "Create a function that takes a list of non-negative integers and strings and return a new list\n",
    "without the strings.\n",
    "Examples\n",
    "- filter_list([1, 2, &quot;a&quot;, &quot;b&quot;]) ➞ [1, 2]"
   ]
  },
  {
   "cell_type": "code",
   "execution_count": 1,
   "id": "828ef637",
   "metadata": {},
   "outputs": [],
   "source": [
    "def filter_list(lst):\n",
    "    \n",
    "    return [i for i in lst if type(i)!=str]"
   ]
  },
  {
   "cell_type": "code",
   "execution_count": 2,
   "id": "221372d4",
   "metadata": {},
   "outputs": [
    {
     "data": {
      "text/plain": [
       "[1, 2]"
      ]
     },
     "execution_count": 2,
     "metadata": {},
     "output_type": "execute_result"
    }
   ],
   "source": [
    "filter_list([1, 2, \"a\", \"b\"])"
   ]
  },
  {
   "cell_type": "code",
   "execution_count": 3,
   "id": "8bd74ab3",
   "metadata": {},
   "outputs": [
    {
     "data": {
      "text/plain": [
       "[1, 2, 123]"
      ]
     },
     "execution_count": 3,
     "metadata": {},
     "output_type": "execute_result"
    }
   ],
   "source": [
    "filter_list([1, 2, \"aasf\", \"1\", \"123\", 123])"
   ]
  },
  {
   "cell_type": "markdown",
   "id": "d7590069",
   "metadata": {},
   "source": [
    "Question 2\n",
    "The &quot;Reverser&quot; takes a string as input and returns that string in reverse order, with the\n",
    "opposite case.\n",
    "Examples\n",
    "- reverse(&quot;Hello World&quot;) ➞ &quot;DLROw OLLEh&quot;"
   ]
  },
  {
   "cell_type": "code",
   "execution_count": 4,
   "id": "18931b41",
   "metadata": {},
   "outputs": [],
   "source": [
    "def reverse(sent):\n",
    "    a = sent[::-1]\n",
    "    b = a.swapcase()\n",
    "    return b"
   ]
  },
  {
   "cell_type": "code",
   "execution_count": 5,
   "id": "547d7ab9",
   "metadata": {},
   "outputs": [
    {
     "data": {
      "text/plain": [
       "'DLROw OLLEh'"
      ]
     },
     "execution_count": 5,
     "metadata": {},
     "output_type": "execute_result"
    }
   ],
   "source": [
    "reverse(\"Hello World\")"
   ]
  },
  {
   "cell_type": "markdown",
   "id": "3b22aa09",
   "metadata": {},
   "source": [
    "Question 3\n",
    "You can assign variables from lists like this:\n",
    "lst = [1, 2, 3, 4, 5, 6]\n",
    "first = lst[0]\n",
    "middle = lst[1:-1]\n",
    "last = lst[-1]\n",
    "print(first) ➞ outputs 1\n",
    "print(middle) ➞ outputs [2, 3, 4, 5]\n",
    "print(last) ➞ outputs 6\n",
    "With Python 3, you can assign variables from lists in a much more succinct way. Create\n",
    "variables first, middle and last from the given list using destructuring assignment\n",
    "(check the Resources tab for some examples), where:\n",
    "- first ➞ 1\n",
    "- middle ➞ [2, 3, 4, 5]\n",
    "- last ➞ 6\n",
    "\n",
    "Your task is to unpack the list writeyourcodehere into three variables, being first,\n",
    "middle, and last, with middle being everything in between the first and last element. Then\n",
    "print all three variables."
   ]
  },
  {
   "cell_type": "code",
   "execution_count": 6,
   "id": "af7c164d",
   "metadata": {},
   "outputs": [],
   "source": [
    "def destruct(lst):\n",
    "    head, *middle, tail = lst\n",
    "\n",
    "    print('first','-',head)    \n",
    "    print('middle','-',middle)  \n",
    "    print('last','-',tail)    "
   ]
  },
  {
   "cell_type": "code",
   "execution_count": 7,
   "id": "e2b7a32f",
   "metadata": {},
   "outputs": [
    {
     "name": "stdout",
     "output_type": "stream",
     "text": [
      "first - 1\n",
      "middle - [2, 3, 4, 5]\n",
      "last - 6\n"
     ]
    }
   ],
   "source": [
    "destruct([1, 2, 3, 4, 5, 6])"
   ]
  },
  {
   "cell_type": "markdown",
   "id": "a116baeb",
   "metadata": {},
   "source": [
    "Question 4\n",
    "Write a function that calculates the factorial of a number recursively."
   ]
  },
  {
   "cell_type": "code",
   "execution_count": 8,
   "id": "9b67f46a",
   "metadata": {},
   "outputs": [],
   "source": [
    "def fact(n):\n",
    "    if n==0:\n",
    "        result = 1\n",
    "    else:\n",
    "        result = n*fact(n-1)\n",
    "    return result"
   ]
  },
  {
   "cell_type": "code",
   "execution_count": 9,
   "id": "ad5a43f8",
   "metadata": {},
   "outputs": [
    {
     "data": {
      "text/plain": [
       "120"
      ]
     },
     "execution_count": 9,
     "metadata": {},
     "output_type": "execute_result"
    }
   ],
   "source": [
    "fact(5)"
   ]
  },
  {
   "cell_type": "markdown",
   "id": "645a4cbc",
   "metadata": {},
   "source": [
    "Question 5\n",
    "Write a function that moves all elements of one type to the end of the list.\n",
    "Examples\n",
    "- move_to_end([1, 3, 2, 4, 4, 1], 1) ➞ [3, 2, 4, 4, 1, 1]"
   ]
  },
  {
   "cell_type": "code",
   "execution_count": 10,
   "id": "b98e45e0",
   "metadata": {},
   "outputs": [],
   "source": [
    "def move_to_end(lst,n):\n",
    "    lst2 = []\n",
    "    n=n\n",
    "    for i in lst:\n",
    "        for i in lst:\n",
    "            if i ==n:\n",
    "                lst.remove(i)\n",
    "                lst2.append(i)\n",
    "    return lst+lst2"
   ]
  },
  {
   "cell_type": "code",
   "execution_count": 11,
   "id": "770e3d35",
   "metadata": {},
   "outputs": [
    {
     "data": {
      "text/plain": [
       "[3, 2, 4, 4, 1, 1]"
      ]
     },
     "execution_count": 11,
     "metadata": {},
     "output_type": "execute_result"
    }
   ],
   "source": [
    "move_to_end([1, 3, 2, 4, 4, 1], 1)"
   ]
  },
  {
   "cell_type": "code",
   "execution_count": 12,
   "id": "d5c60a40",
   "metadata": {},
   "outputs": [
    {
     "data": {
      "text/plain": [
       "['b', 'a', 'a', 'a']"
      ]
     },
     "execution_count": 12,
     "metadata": {},
     "output_type": "execute_result"
    }
   ],
   "source": [
    "move_to_end([\"a\", \"a\", \"a\", \"b\"], \"a\")"
   ]
  },
  {
   "cell_type": "code",
   "execution_count": null,
   "id": "c2ae3587",
   "metadata": {},
   "outputs": [],
   "source": []
  }
 ],
 "metadata": {
  "kernelspec": {
   "display_name": "Python 3 (ipykernel)",
   "language": "python",
   "name": "python3"
  },
  "language_info": {
   "codemirror_mode": {
    "name": "ipython",
    "version": 3
   },
   "file_extension": ".py",
   "mimetype": "text/x-python",
   "name": "python",
   "nbconvert_exporter": "python",
   "pygments_lexer": "ipython3",
   "version": "3.9.12"
  }
 },
 "nbformat": 4,
 "nbformat_minor": 5
}
