{
 "cells": [
  {
   "cell_type": "markdown",
   "id": "bdcf0d92",
   "metadata": {},
   "source": [
    "1. Write a Python program to check if the given number is a Disarium Number?"
   ]
  },
  {
   "cell_type": "markdown",
   "id": "56f5269f",
   "metadata": {},
   "source": [
    "A Disarium Number is a number where the sum of its digits raised to their respective positions is equal to the number itself. For example, 175 is a Disarium Number because 1^1 + 7^2 + 5^3 = 1 + 49 + 125 = 175."
   ]
  },
  {
   "cell_type": "code",
   "execution_count": 1,
   "id": "1dfb7aa8",
   "metadata": {},
   "outputs": [
    {
     "name": "stdout",
     "output_type": "stream",
     "text": [
      "Enter a number: 56\n",
      "56 is not a Disarium Number\n"
     ]
    }
   ],
   "source": [
    "num = int(input(\"Enter a number: \"))\n",
    "n = num\n",
    "digits = len(str(num))\n",
    "sum = 0\n",
    "\n",
    "while n > 0:\n",
    "    digit = n % 10\n",
    "    sum += digit ** digits\n",
    "    n //= 10\n",
    "    digits -= 1\n",
    "\n",
    "if sum == num:\n",
    "    print(num, \"is a Disarium Number\")\n",
    "else:\n",
    "    print(num, \"is not a Disarium Number\")"
   ]
  },
  {
   "cell_type": "code",
   "execution_count": null,
   "id": "9a799c4b",
   "metadata": {},
   "outputs": [],
   "source": []
  },
  {
   "cell_type": "markdown",
   "id": "3baad7bf",
   "metadata": {},
   "source": [
    "2. Write a Python program to print all disarium numbers between 1 to 100?"
   ]
  },
  {
   "cell_type": "code",
   "execution_count": 2,
   "id": "aaa68f49",
   "metadata": {},
   "outputs": [
    {
     "name": "stdout",
     "output_type": "stream",
     "text": [
      "1\n",
      "2\n",
      "3\n",
      "4\n",
      "5\n",
      "6\n",
      "7\n",
      "8\n",
      "9\n",
      "89\n"
     ]
    }
   ],
   "source": [
    "def is_disarium(num):\n",
    "    n = num\n",
    "    digits = len(str(num))\n",
    "    sum = 0\n",
    "\n",
    "    while n > 0:\n",
    "        digit = n % 10\n",
    "        sum += digit ** digits\n",
    "        n //= 10\n",
    "        digits -= 1\n",
    "\n",
    "    if sum == num:\n",
    "        return True\n",
    "    else:\n",
    "        return False\n",
    "\n",
    "for i in range(1, 101):\n",
    "    if is_disarium(i):\n",
    "        print(i)"
   ]
  },
  {
   "cell_type": "code",
   "execution_count": null,
   "id": "b4b3540f",
   "metadata": {},
   "outputs": [],
   "source": []
  },
  {
   "cell_type": "markdown",
   "id": "eef463d1",
   "metadata": {},
   "source": [
    "3. Write a Python program to check if the given number is Happy Number?"
   ]
  },
  {
   "cell_type": "markdown",
   "id": "2851467b",
   "metadata": {},
   "source": [
    "A Happy Number is a number where the sum of the squares of its digits, when iteratively computed, eventually leads to 1. For example, 19 is a Happy Number because 1^2 + 9^2 = 82, and 8^2 + 2^2 = 68, and 6^2 + 8^2 = 100, and 1^2 + 0^2 + 0^2 = 1."
   ]
  },
  {
   "cell_type": "code",
   "execution_count": 5,
   "id": "db04a98b",
   "metadata": {},
   "outputs": [
    {
     "name": "stdout",
     "output_type": "stream",
     "text": [
      "Enter a number: 19\n",
      "19 is a Happy Number\n"
     ]
    }
   ],
   "source": [
    "def is_happy(num):\n",
    "    seen = set()\n",
    "    while True:\n",
    "        sum = 0\n",
    "        for digit in str(num):\n",
    "            sum += int(digit) ** 2\n",
    "        if sum == 1:\n",
    "            return True\n",
    "        elif sum in seen:\n",
    "            return False\n",
    "        else:\n",
    "            seen.add(sum)\n",
    "            num = sum\n",
    "\n",
    "num = int(input(\"Enter a number: \"))\n",
    "if is_happy(num):\n",
    "    print(num, \"is a Happy Number\")\n",
    "else:\n",
    "    print(num, \"is not a Happy Number\")"
   ]
  },
  {
   "cell_type": "code",
   "execution_count": null,
   "id": "0ed6f450",
   "metadata": {},
   "outputs": [],
   "source": []
  },
  {
   "cell_type": "markdown",
   "id": "6dc89de3",
   "metadata": {},
   "source": [
    "4. Write a Python program to print all happy numbers between 1 and 100?"
   ]
  },
  {
   "cell_type": "code",
   "execution_count": 8,
   "id": "01c53650",
   "metadata": {},
   "outputs": [
    {
     "name": "stdout",
     "output_type": "stream",
     "text": [
      "1, 7, 10, 13, 19, 23, 28, 31, 32, 44, 49, 68, 70, 79, 82, 86, 91, 94, 97, 100, "
     ]
    }
   ],
   "source": [
    "def is_happy(num):\n",
    "    seen = set()\n",
    "    while True:\n",
    "        sum = 0\n",
    "        for digit in str(num):\n",
    "            sum += int(digit) ** 2\n",
    "        if sum == 1:\n",
    "            return True\n",
    "        elif sum in seen:\n",
    "            return False\n",
    "        else:\n",
    "            seen.add(sum)\n",
    "            num = sum\n",
    "\n",
    "for num in range(1, 101):\n",
    "    if is_happy(num):\n",
    "        print(num, end=', ')"
   ]
  },
  {
   "cell_type": "code",
   "execution_count": null,
   "id": "8eabc101",
   "metadata": {},
   "outputs": [],
   "source": []
  },
  {
   "cell_type": "markdown",
   "id": "0ed0a22b",
   "metadata": {},
   "source": [
    "5. Write a Python program to determine whether the given number is a Harshad Number?"
   ]
  },
  {
   "cell_type": "markdown",
   "id": "99e4d64e",
   "metadata": {},
   "source": [
    "A Harshad number is a number that is divisible by the sum of its digits. "
   ]
  },
  {
   "cell_type": "code",
   "execution_count": 10,
   "id": "300dac4b",
   "metadata": {},
   "outputs": [
    {
     "name": "stdout",
     "output_type": "stream",
     "text": [
      "Enter a number: 51\n",
      "51 is not a Harshad Number\n"
     ]
    }
   ],
   "source": [
    "def is_harshad(num):\n",
    "    sum = 0\n",
    "    for digit in str(num):\n",
    "        sum += int(digit)\n",
    "    return num % sum == 0\n",
    "\n",
    "num = int(input(\"Enter a number: \"))\n",
    "if is_harshad(num):\n",
    "    print(num, \"is a Harshad Number\")\n",
    "else:\n",
    "    print(num, \"is not a Harshad Number\")"
   ]
  },
  {
   "cell_type": "code",
   "execution_count": null,
   "id": "529f57e2",
   "metadata": {},
   "outputs": [],
   "source": []
  },
  {
   "cell_type": "markdown",
   "id": "1ea098ce",
   "metadata": {},
   "source": [
    "6. Write a Python program to print all pronic numbers between 1 and 100?"
   ]
  },
  {
   "cell_type": "markdown",
   "id": "54887f9f",
   "metadata": {},
   "source": [
    "A pronic number is a number that is the product of two consecutive integers. In other words, if we take two consecutive integers, say n and n+1, then their product is a pronic number. For example, 6 is a pronic number because it can be written as 2 × 3, which are two consecutive integers."
   ]
  },
  {
   "cell_type": "code",
   "execution_count": 16,
   "id": "8b563c34",
   "metadata": {},
   "outputs": [
    {
     "name": "stdout",
     "output_type": "stream",
     "text": [
      "Pronic numbers between 1 and 100 are:\n",
      "2\n",
      "6\n",
      "12\n",
      "20\n",
      "30\n",
      "42\n",
      "56\n",
      "72\n",
      "90\n"
     ]
    }
   ],
   "source": [
    "def is_pronic(num):\n",
    "    for i in range(1, num+1):\n",
    "        if i*(i+1) == num:\n",
    "            return True\n",
    "    return False\n",
    "\n",
    "print(\"Pronic numbers between 1 and 100 are:\")\n",
    "for i in range(1, 101):\n",
    "    if is_pronic(i):\n",
    "        print(i)"
   ]
  }
 ],
 "metadata": {
  "kernelspec": {
   "display_name": "Python 3 (ipykernel)",
   "language": "python",
   "name": "python3"
  },
  "language_info": {
   "codemirror_mode": {
    "name": "ipython",
    "version": 3
   },
   "file_extension": ".py",
   "mimetype": "text/x-python",
   "name": "python",
   "nbconvert_exporter": "python",
   "pygments_lexer": "ipython3",
   "version": "3.9.12"
  }
 },
 "nbformat": 4,
 "nbformat_minor": 5
}
