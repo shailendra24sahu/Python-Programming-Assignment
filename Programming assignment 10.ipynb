{
 "cells": [
  {
   "cell_type": "markdown",
   "id": "677f46f5",
   "metadata": {},
   "source": [
    "1. Write a Python program to find sum of elements in list?"
   ]
  },
  {
   "cell_type": "code",
   "execution_count": 1,
   "id": "f21522ac",
   "metadata": {},
   "outputs": [],
   "source": [
    "def sm(lst):\n",
    "    sm1 = 0\n",
    "    for i in lst:\n",
    "        sm1 = sm1 +i\n",
    "    return sm1"
   ]
  },
  {
   "cell_type": "markdown",
   "id": "8a6a890a",
   "metadata": {},
   "source": [
    "2. Write a Python program to Multiply all numbers in the list?"
   ]
  },
  {
   "cell_type": "code",
   "execution_count": 2,
   "id": "1d91d54b",
   "metadata": {},
   "outputs": [],
   "source": [
    "def mul(lst):\n",
    "    mul = 1\n",
    "    for i in lst:\n",
    "         mul = mul*i\n",
    "    return mul"
   ]
  },
  {
   "cell_type": "markdown",
   "id": "29b32fd9",
   "metadata": {},
   "source": [
    "3. Write a Python program to find smallest number in a list?"
   ]
  },
  {
   "cell_type": "code",
   "execution_count": 3,
   "id": "6953c14b",
   "metadata": {},
   "outputs": [
    {
     "data": {
      "text/plain": [
       "-2"
      ]
     },
     "execution_count": 3,
     "metadata": {},
     "output_type": "execute_result"
    }
   ],
   "source": [
    "def smallest(lst):\n",
    "    x = lst[0]\n",
    "    for i in lst:\n",
    "        if i<x:\n",
    "            x=i\n",
    "    return x\n",
    "\n",
    "smallest([10,25,85,3,-2])"
   ]
  },
  {
   "cell_type": "markdown",
   "id": "50f7ce6b",
   "metadata": {},
   "source": [
    "4. Write a Python program to find largest number in a list?"
   ]
  },
  {
   "cell_type": "code",
   "execution_count": 4,
   "id": "fe131b2e",
   "metadata": {},
   "outputs": [
    {
     "data": {
      "text/plain": [
       "85"
      ]
     },
     "execution_count": 4,
     "metadata": {},
     "output_type": "execute_result"
    }
   ],
   "source": [
    "def largest(lst):\n",
    "    x = lst[0]\n",
    "    for i in lst:\n",
    "        if i>x:\n",
    "            x=i\n",
    "    return x\n",
    "\n",
    "largest([10,25,85,3])"
   ]
  },
  {
   "cell_type": "markdown",
   "id": "6d65c729",
   "metadata": {},
   "source": [
    "5. Write a Python program to find second largest number in a list?"
   ]
  },
  {
   "cell_type": "code",
   "execution_count": 5,
   "id": "8486d699",
   "metadata": {},
   "outputs": [
    {
     "name": "stdout",
     "output_type": "stream",
     "text": [
      "Second largest element is: 25\n"
     ]
    }
   ],
   "source": [
    "def s_large(list1):\n",
    "    list2 = list(set(list1))\n",
    "    list2.sort()\n",
    "    print(\"Second largest element is:\", list2[-2])\n",
    "\n",
    "s_large([10,25,85,3])"
   ]
  },
  {
   "cell_type": "markdown",
   "id": "7c497a74",
   "metadata": {},
   "source": [
    "6. Write a Python program to find N largest elements from a list?"
   ]
  },
  {
   "cell_type": "code",
   "execution_count": 6,
   "id": "321e3ae1",
   "metadata": {},
   "outputs": [
    {
     "name": "stdout",
     "output_type": "stream",
     "text": [
      "3th largest element is: 10\n"
     ]
    }
   ],
   "source": [
    "def n_large(list1,n):\n",
    "    list2 = list(set(list1))\n",
    "    list2.sort()\n",
    "    print(\"{}th largest element is: {}\".format(n,list2[-n]))\n",
    "    \n",
    "n_large([10,25,85,3],3)"
   ]
  },
  {
   "cell_type": "markdown",
   "id": "624465b4",
   "metadata": {},
   "source": [
    "7. Write a Python program to print even numbers in a list?"
   ]
  },
  {
   "cell_type": "code",
   "execution_count": 7,
   "id": "cad577b3",
   "metadata": {},
   "outputs": [
    {
     "data": {
      "text/plain": [
       "[10, 8, 4]"
      ]
     },
     "execution_count": 7,
     "metadata": {},
     "output_type": "execute_result"
    }
   ],
   "source": [
    "def even(list1):\n",
    "    return [i for i in list1 if i%2 ==0]\n",
    "    \n",
    "even([10,5,8,9,63,4])"
   ]
  },
  {
   "cell_type": "markdown",
   "id": "9dfdab63",
   "metadata": {},
   "source": [
    "8. Write a Python program to print odd numbers in a List?"
   ]
  },
  {
   "cell_type": "code",
   "execution_count": 8,
   "id": "b12e227c",
   "metadata": {},
   "outputs": [
    {
     "data": {
      "text/plain": [
       "[5, 9, 63]"
      ]
     },
     "execution_count": 8,
     "metadata": {},
     "output_type": "execute_result"
    }
   ],
   "source": [
    "def odd(list1):\n",
    "    return [i for i in list1 if i%2 ==1]\n",
    "    \n",
    "odd([10,5,8,9,63,4])"
   ]
  },
  {
   "cell_type": "markdown",
   "id": "e928c8e5",
   "metadata": {},
   "source": [
    "9. Write a Python program to Remove empty List from List?"
   ]
  },
  {
   "cell_type": "code",
   "execution_count": 9,
   "id": "604a2931",
   "metadata": {},
   "outputs": [
    {
     "name": "stdout",
     "output_type": "stream",
     "text": [
      "List after empty list removal\n"
     ]
    },
    {
     "data": {
      "text/plain": [
       "[1, 2, 5, 8, 9, 5, 3]"
      ]
     },
     "execution_count": 9,
     "metadata": {},
     "output_type": "execute_result"
    }
   ],
   "source": [
    "def empty_list_remove(input_list):\n",
    "    new_list = []\n",
    "    for ele in input_list:\n",
    "        if ele:\n",
    "            new_list.append(ele)\n",
    "    print(\"List after empty list removal\")\n",
    "    return new_list\n",
    " \n",
    "empty_list_remove([1,2,5,8,[],9,[],5,3])"
   ]
  },
  {
   "cell_type": "markdown",
   "id": "be74392f",
   "metadata": {},
   "source": [
    "10. Write a Python program to Cloning or Copying a list?"
   ]
  },
  {
   "cell_type": "code",
   "execution_count": 10,
   "id": "d0d284d0",
   "metadata": {},
   "outputs": [
    {
     "data": {
      "text/plain": [
       "[2, 5, 9, 6, 4]"
      ]
     },
     "execution_count": 10,
     "metadata": {},
     "output_type": "execute_result"
    }
   ],
   "source": [
    "def cl(list1):\n",
    "    copy = list1.copy()\n",
    "    return copy\n",
    "\n",
    "cl([2,5,9,6,4])"
   ]
  },
  {
   "cell_type": "markdown",
   "id": "cb93c14c",
   "metadata": {},
   "source": [
    "11. Write a Python program to Count occurrences of an element in a list?"
   ]
  },
  {
   "cell_type": "code",
   "execution_count": 11,
   "id": "24529abb",
   "metadata": {},
   "outputs": [
    {
     "name": "stdout",
     "output_type": "stream",
     "text": [
      "4 has occurred 2 times\n"
     ]
    }
   ],
   "source": [
    "def countX(lst, x):\n",
    "    count = 0\n",
    "    for ele in lst:\n",
    "        if (ele == x):\n",
    "            count = count + 1\n",
    "    print('{} has occurred {} times'.format(x,count))\n",
    "\n",
    "countX([2,56,5,9,7,4,8,7,4],4)"
   ]
  }
 ],
 "metadata": {
  "kernelspec": {
   "display_name": "Python 3 (ipykernel)",
   "language": "python",
   "name": "python3"
  },
  "language_info": {
   "codemirror_mode": {
    "name": "ipython",
    "version": 3
   },
   "file_extension": ".py",
   "mimetype": "text/x-python",
   "name": "python",
   "nbconvert_exporter": "python",
   "pygments_lexer": "ipython3",
   "version": "3.9.12"
  }
 },
 "nbformat": 4,
 "nbformat_minor": 5
}
