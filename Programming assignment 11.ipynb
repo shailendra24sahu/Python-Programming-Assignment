{
 "cells": [
  {
   "cell_type": "markdown",
   "id": "ec1b6a3e",
   "metadata": {},
   "source": [
    "1. Write a Python program to find words which are greater than given length k?"
   ]
  },
  {
   "cell_type": "code",
   "execution_count": 2,
   "id": "eb38b5f2",
   "metadata": {},
   "outputs": [
    {
     "name": "stdout",
     "output_type": "stream",
     "text": [
      "enter a sentence:this is a class\n",
      "this\n",
      "class\n"
     ]
    }
   ],
   "source": [
    "sent = input('enter a sentence:')\n",
    "def func(sent, k):\n",
    "    for i in sent.split(' '):\n",
    "        if len(i)>k:\n",
    "            print(i)\n",
    "\n",
    "func(sent,3)"
   ]
  },
  {
   "cell_type": "markdown",
   "id": "83bf6001",
   "metadata": {},
   "source": [
    "2. Write a Python program for removing i-th character from a string?"
   ]
  },
  {
   "cell_type": "code",
   "execution_count": 3,
   "id": "477a7a70",
   "metadata": {},
   "outputs": [
    {
     "data": {
      "text/plain": [
       "'strngday'"
      ]
     },
     "execution_count": 3,
     "metadata": {},
     "output_type": "execute_result"
    }
   ],
   "source": [
    "def func(word, k):\n",
    "    a = word[: k]\n",
    "    b = word[k + 1:]\n",
    "    return a + b\n",
    "\n",
    "\n",
    "func('strongday',3)"
   ]
  },
  {
   "cell_type": "markdown",
   "id": "6b88f4ca",
   "metadata": {},
   "source": [
    "3. Write a Python program to split and join a string?"
   ]
  },
  {
   "cell_type": "code",
   "execution_count": 4,
   "id": "ac2ea7be",
   "metadata": {},
   "outputs": [
    {
     "name": "stdout",
     "output_type": "stream",
     "text": [
      "enter a sentence:hello world a\n",
      "this is the sentence after split :  ['hello', 'world', 'a']\n",
      "this is the sentence after join :  hello world a\n"
     ]
    }
   ],
   "source": [
    "sent = str(input('enter a sentence:'))\n",
    "s = sent.split(' ')\n",
    "j = ' '.join(s)\n",
    "print('this is the sentence after split : ',s)\n",
    "print('this is the sentence after join : ',j)"
   ]
  },
  {
   "cell_type": "markdown",
   "id": "dd832772",
   "metadata": {},
   "source": [
    "4. Write a Python to check if a given string is binary string or not?"
   ]
  },
  {
   "cell_type": "code",
   "execution_count": 5,
   "id": "de0a2f45",
   "metadata": {},
   "outputs": [
    {
     "name": "stdout",
     "output_type": "stream",
     "text": [
      "No\n"
     ]
    }
   ],
   "source": [
    "def check(string):\n",
    "    p = set(string)\n",
    "    s = {'0', '1'}\n",
    "    if s == p or p == {'0'} or p == {'1'}:\n",
    "        print(\"Yes\")\n",
    "    else:\n",
    "        print(\"No\")\n",
    "\n",
    "check('laptop')"
   ]
  },
  {
   "cell_type": "markdown",
   "id": "d5ac94d0",
   "metadata": {},
   "source": [
    "5. Write a Python program to find uncommon words from two Strings?"
   ]
  },
  {
   "cell_type": "code",
   "execution_count": 6,
   "id": "12f65637",
   "metadata": {},
   "outputs": [
    {
     "name": "stdout",
     "output_type": "stream",
     "text": [
      "enter sentence 1:come to the office\n",
      "enter sentence 2:this is the office\n",
      "come\n",
      "to\n"
     ]
    }
   ],
   "source": [
    "s1 = str(input('enter sentence 1:'))\n",
    "s2 = str(input('enter sentence 2:'))\n",
    "\n",
    "for i in s1.split(' '):\n",
    "    if i not in s2.split(' '):\n",
    "        print(i)"
   ]
  },
  {
   "cell_type": "markdown",
   "id": "ad849229",
   "metadata": {},
   "source": [
    "6. Write a Python to find all duplicate characters in string?"
   ]
  },
  {
   "cell_type": "code",
   "execution_count": 7,
   "id": "8f0774fc",
   "metadata": {},
   "outputs": [
    {
     "name": "stdout",
     "output_type": "stream",
     "text": [
      "t\n",
      "i\n",
      "s\n",
      " \n",
      "o\n"
     ]
    }
   ],
   "source": [
    "from collections import Counter\n",
    "def find_dup_char(input):\n",
    "    # creating dictionary using counter method\n",
    "    WC = Counter(input)\n",
    "    \n",
    "    for letter, count in WC.items():\n",
    "        if (count > 1):\n",
    "            print(letter)\n",
    "            \n",
    "find_dup_char('this is a good city')"
   ]
  },
  {
   "cell_type": "markdown",
   "id": "96cd6807",
   "metadata": {},
   "source": [
    "7. Write a Python Program to check if a string contains any special character?"
   ]
  },
  {
   "cell_type": "code",
   "execution_count": 8,
   "id": "b5da31e6",
   "metadata": {},
   "outputs": [
    {
     "data": {
      "text/plain": [
       "'It has special character'"
      ]
     },
     "execution_count": 8,
     "metadata": {},
     "output_type": "execute_result"
    }
   ],
   "source": [
    "def check_special_char(s):\n",
    "    for c in s:\n",
    "        if not (c.isalpha() or c.isdigit() or c == ' '):\n",
    "            return 'It has special character'\n",
    "    return 'It has no special character'\n",
    "\n",
    "check_special_char('have @ nice day')"
   ]
  },
  {
   "cell_type": "code",
   "execution_count": null,
   "id": "1553c8ed",
   "metadata": {},
   "outputs": [],
   "source": []
  }
 ],
 "metadata": {
  "kernelspec": {
   "display_name": "Python 3 (ipykernel)",
   "language": "python",
   "name": "python3"
  },
  "language_info": {
   "codemirror_mode": {
    "name": "ipython",
    "version": 3
   },
   "file_extension": ".py",
   "mimetype": "text/x-python",
   "name": "python",
   "nbconvert_exporter": "python",
   "pygments_lexer": "ipython3",
   "version": "3.9.12"
  }
 },
 "nbformat": 4,
 "nbformat_minor": 5
}
