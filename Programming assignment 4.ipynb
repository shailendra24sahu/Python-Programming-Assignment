{
 "cells": [
  {
   "cell_type": "markdown",
   "id": "f1c2af2b",
   "metadata": {},
   "source": [
    "1. Write a Python Program to Find the Factorial of a Number?"
   ]
  },
  {
   "cell_type": "code",
   "execution_count": 1,
   "id": "80791a2d",
   "metadata": {},
   "outputs": [],
   "source": [
    "def factorial(n):\n",
    "    result = 1\n",
    "    while n>1:\n",
    "        result = result*n\n",
    "        n = n-1\n",
    "    return result"
   ]
  },
  {
   "cell_type": "markdown",
   "id": "3342e256",
   "metadata": {},
   "source": [
    "2. Write a Python Program to Display the multiplication Table?"
   ]
  },
  {
   "cell_type": "code",
   "execution_count": 2,
   "id": "97b91aa9",
   "metadata": {},
   "outputs": [
    {
     "name": "stdout",
     "output_type": "stream",
     "text": [
      "Display multiplication table of 3\n",
      "3 x 1 = 3\n",
      "3 x 2 = 6\n",
      "3 x 3 = 9\n",
      "3 x 4 = 12\n",
      "3 x 5 = 15\n",
      "3 x 6 = 18\n",
      "3 x 7 = 21\n",
      "3 x 8 = 24\n",
      "3 x 9 = 27\n",
      "3 x 10 = 30\n"
     ]
    }
   ],
   "source": [
    "num = int(input(\"Display multiplication table of \"))\n",
    "\n",
    "# Iterate 10 times\n",
    "for i in range(1, 11):\n",
    "     print(num, 'x', i, '=', num*i)"
   ]
  },
  {
   "cell_type": "markdown",
   "id": "14caa4b4",
   "metadata": {},
   "source": [
    "3. Write a Python Program to Print the Fibonacci sequence?"
   ]
  },
  {
   "cell_type": "code",
   "execution_count": 3,
   "id": "0d37dbb0",
   "metadata": {},
   "outputs": [],
   "source": [
    "def fibonacci(num):\n",
    "    a,b = 0,1\n",
    "    for i in range(num):\n",
    "        print(a)\n",
    "        a,b = b,a+b"
   ]
  },
  {
   "cell_type": "markdown",
   "id": "0cf8f1bf",
   "metadata": {},
   "source": [
    "4. Write a Python Program to Check Armstrong Number?"
   ]
  },
  {
   "cell_type": "code",
   "execution_count": 4,
   "id": "f8a9fce6",
   "metadata": {},
   "outputs": [
    {
     "name": "stdout",
     "output_type": "stream",
     "text": [
      "Enter a number: 153\n",
      "153 is an Armstrong number of order 3\n"
     ]
    }
   ],
   "source": [
    "num = int(input(\"Enter a number: \"))\n",
    "sum = 0\n",
    "ord = len(str(num))\n",
    "\n",
    "temp = num\n",
    "while temp > 0:\n",
    "    digit = temp % 10\n",
    "    sum += digit ** ord\n",
    "    temp //= 10\n",
    "\n",
    "if num == sum:\n",
    "    print(num,\"is an Armstrong number of order\", ord)\n",
    "else:\n",
    "    print(num,\"is not an Armstrong number\") "
   ]
  },
  {
   "cell_type": "markdown",
   "id": "f83855fd",
   "metadata": {},
   "source": [
    "5. Write a Python Program to Find Armstrong Number in an Interval?"
   ]
  },
  {
   "cell_type": "code",
   "execution_count": 5,
   "id": "12dd817f",
   "metadata": {},
   "outputs": [],
   "source": [
    "def armstrong(a,b):\n",
    "    for num in range(a, b + 1):\n",
    "        order = len(str(num))\n",
    "        sum = 0\n",
    "        temp = num\n",
    "        while temp > 0:\n",
    "            digit = temp % 10\n",
    "            sum += digit ** order\n",
    "            temp //= 10\n",
    "        if num == sum:\n",
    "            print(num, 'is an armstrong number of order', order)"
   ]
  },
  {
   "cell_type": "markdown",
   "id": "f3267626",
   "metadata": {},
   "source": [
    "6. Write a Python Program to Find the Sum of Natural Numbers?"
   ]
  },
  {
   "cell_type": "code",
   "execution_count": 6,
   "id": "6aaa48cc",
   "metadata": {},
   "outputs": [],
   "source": [
    "def num(n):\n",
    "    if n < 0:\n",
    "        print(\"Enter a positive number\")\n",
    "    else:\n",
    "        sum = 0\n",
    "        while n>0:\n",
    "            sum += n\n",
    "            n = n-1\n",
    "        print(\"The sum is\", sum)"
   ]
  }
 ],
 "metadata": {
  "kernelspec": {
   "display_name": "Python 3 (ipykernel)",
   "language": "python",
   "name": "python3"
  },
  "language_info": {
   "codemirror_mode": {
    "name": "ipython",
    "version": 3
   },
   "file_extension": ".py",
   "mimetype": "text/x-python",
   "name": "python",
   "nbconvert_exporter": "python",
   "pygments_lexer": "ipython3",
   "version": "3.9.12"
  }
 },
 "nbformat": 4,
 "nbformat_minor": 5
}
