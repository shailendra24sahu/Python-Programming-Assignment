{
 "cells": [
  {
   "cell_type": "markdown",
   "id": "c0c83ef4",
   "metadata": {},
   "source": [
    "1. Write a Python Program to Find LCM?"
   ]
  },
  {
   "cell_type": "code",
   "execution_count": 1,
   "id": "d5d45b67",
   "metadata": {},
   "outputs": [],
   "source": [
    "def calc_lcm(x, y):\n",
    "# choose the greater number\n",
    "    if x>y:\n",
    "        greater = x\n",
    "    else:\n",
    "        greater = y\n",
    "    while True:\n",
    "        if greater%x == 0 and greater %y ==0 :\n",
    "            lcm = greater\n",
    "            break\n",
    "        greater+=1\n",
    "    return lcm"
   ]
  },
  {
   "cell_type": "markdown",
   "id": "7a15b605",
   "metadata": {},
   "source": [
    "2. Write a Python Program to Find HCF?"
   ]
  },
  {
   "cell_type": "code",
   "execution_count": 2,
   "id": "c3991def",
   "metadata": {},
   "outputs": [],
   "source": [
    "def calc_hcf(x, y):\n",
    "# choose the smaller number\n",
    "    if x > y:\n",
    "        smaller = y\n",
    "    else:\n",
    "        smaller = x\n",
    "    for i in range(1, smaller+1):\n",
    "        if((x % i == 0) and (y % i == 0)):\n",
    "            hcf = i \n",
    "    return hcf"
   ]
  },
  {
   "cell_type": "markdown",
   "id": "6b06b975",
   "metadata": {},
   "source": [
    "3. Write a Python Program to Convert Decimal to Binary, Octal and Hexadecimal?"
   ]
  },
  {
   "cell_type": "code",
   "execution_count": 3,
   "id": "b998413b",
   "metadata": {},
   "outputs": [
    {
     "name": "stdout",
     "output_type": "stream",
     "text": [
      "enter a decimal number: 21\n",
      "The binary of 21 is 0b10101\n",
      "The octal of 21 is 0o25\n",
      "The hexadecimal of 21 is 0x15\n"
     ]
    }
   ],
   "source": [
    "dec = int(input('enter a decimal number: '))\n",
    "\n",
    "print(\"The binary of {} is {}\".format(dec,bin(dec)))\n",
    "print(\"The octal of {} is {}\".format(dec,oct(dec)))\n",
    "print(\"The hexadecimal of {} is {}\".format(dec,hex(dec)))"
   ]
  },
  {
   "cell_type": "markdown",
   "id": "02f9aaa3",
   "metadata": {},
   "source": [
    "4. Write a Python Program To Find ASCII value of a character?"
   ]
  },
  {
   "cell_type": "code",
   "execution_count": 4,
   "id": "7891cd8f",
   "metadata": {},
   "outputs": [
    {
     "name": "stdout",
     "output_type": "stream",
     "text": [
      "The ASCII value of t is 116\n"
     ]
    }
   ],
   "source": [
    "c = 't'\n",
    "print(f\"The ASCII value of {c} is {ord(c)}\")"
   ]
  },
  {
   "cell_type": "markdown",
   "id": "3ca95cd9",
   "metadata": {},
   "source": [
    "5. Write a Python Program to Make a Simple Calculator with 4 basic mathematical operations?"
   ]
  },
  {
   "cell_type": "code",
   "execution_count": 7,
   "id": "1dbb286d",
   "metadata": {},
   "outputs": [
    {
     "name": "stdout",
     "output_type": "stream",
     "text": [
      "1.Add\n",
      "2.Subtract\n",
      "3.Multiply\n",
      "4.Divide\n",
      "Enter a choice(1/2/3/4): 2\n",
      "Enter first number: 6\n",
      "Enter second number: 2\n",
      "Subtraction of the numbers is 4.0\n",
      "Want to do more calculation? (yes/no): no\n",
      "Thanks for using the calculator\n"
     ]
    }
   ],
   "source": [
    "def add(x, y):\n",
    "    return x + y\n",
    "\n",
    "def subtract(x, y):\n",
    "    return x - y\n",
    "\n",
    "def multiply(x, y):\n",
    "    return x * y\n",
    "\n",
    "def divide(x, y):\n",
    "    return x / y\n",
    "\n",
    "print(\"1.Add\")\n",
    "print(\"2.Subtract\")\n",
    "print(\"3.Multiply\")\n",
    "print(\"4.Divide\")\n",
    "\n",
    "while True:\n",
    "    # take input from the user\n",
    "    choice = input(\"Enter a choice(1/2/3/4): \")\n",
    "\n",
    "    # check if choice is one of the four options\n",
    "    if choice in ('1', '2', '3', '4'):\n",
    "        try:\n",
    "            num1 = float(input(\"Enter first number: \"))\n",
    "            num2 = float(input(\"Enter second number: \"))\n",
    "        except ValueError:\n",
    "            print(\"Invalid input. Please enter a number.\")\n",
    "            continue\n",
    "\n",
    "        if choice == '1':\n",
    "            print(\"Addition of the numbers is\", add(num1, num2))\n",
    "\n",
    "        elif choice == '2':\n",
    "            print(\"Subtraction of the numbers is\", subtract(num1, num2))\n",
    "\n",
    "        elif choice == '3':\n",
    "            print(\"Multiplication of the numbers is\", multiply(num1, num2))\n",
    "\n",
    "        elif choice == '4':\n",
    "            print(\"Division of the numbers is\", divide(num1, num2))\n",
    "        \n",
    "        \n",
    "        next_calculation = input(\"Want to do more calculation? (yes/no): \")\n",
    "        if next_calculation == \"no\":\n",
    "            print('Thanks for using the calculator')\n",
    "            break\n",
    "    else:\n",
    "        print(\"Invalid Input\")"
   ]
  }
 ],
 "metadata": {
  "kernelspec": {
   "display_name": "Python 3 (ipykernel)",
   "language": "python",
   "name": "python3"
  },
  "language_info": {
   "codemirror_mode": {
    "name": "ipython",
    "version": 3
   },
   "file_extension": ".py",
   "mimetype": "text/x-python",
   "name": "python",
   "nbconvert_exporter": "python",
   "pygments_lexer": "ipython3",
   "version": "3.9.12"
  }
 },
 "nbformat": 4,
 "nbformat_minor": 5
}
