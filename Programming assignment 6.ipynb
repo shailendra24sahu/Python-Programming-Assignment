{
 "cells": [
  {
   "cell_type": "markdown",
   "id": "0280834a",
   "metadata": {},
   "source": [
    "1. Write a Python Program to Display Fibonacci Sequence Using Recursion?"
   ]
  },
  {
   "cell_type": "code",
   "execution_count": 1,
   "id": "e817dcbb",
   "metadata": {},
   "outputs": [
    {
     "name": "stdout",
     "output_type": "stream",
     "text": [
      "enter a number :8\n",
      "0\n",
      "1\n",
      "1\n",
      "2\n",
      "3\n",
      "5\n",
      "8\n",
      "13\n"
     ]
    }
   ],
   "source": [
    "def fibo(n):\n",
    "    if n<=1:    #we have to define base numbers to stop the recursion \n",
    "        return n\n",
    "    else:\n",
    "        return fibo(n-1)+fibo(n-2)\n",
    "\n",
    "n = int(input('enter a number :'))\n",
    "for i in range(n):\n",
    "    print(fibo(i))"
   ]
  },
  {
   "cell_type": "markdown",
   "id": "d845bca2",
   "metadata": {},
   "source": [
    "2. Write a Python Program to Find Factorial of Number Using Recursion?"
   ]
  },
  {
   "cell_type": "code",
   "execution_count": 2,
   "id": "241385b8",
   "metadata": {},
   "outputs": [],
   "source": [
    "def fact(n):\n",
    "    if n ==0:\n",
    "        result = 1\n",
    "    else:\n",
    "        result = n*fact(n-1)\n",
    "    return result"
   ]
  },
  {
   "cell_type": "markdown",
   "id": "5c654116",
   "metadata": {},
   "source": [
    "3. Write a Python Program to calculate your Body Mass Index?"
   ]
  },
  {
   "cell_type": "code",
   "execution_count": 3,
   "id": "bb9e6b09",
   "metadata": {},
   "outputs": [
    {
     "name": "stdout",
     "output_type": "stream",
     "text": [
      "Enter your height in meter: 1.7\n",
      "Enter your weight in kg: 65\n",
      "Your BMI is 22.49\n"
     ]
    }
   ],
   "source": [
    "height = float(input(\"Enter your height in meter: \"))\n",
    "weight = float(input(\"Enter your weight in kg: \"))\n",
    "\n",
    "BMI = weight / (height)**2\n",
    "print(f\"Your BMI is {round(BMI,2)}\")"
   ]
  },
  {
   "cell_type": "markdown",
   "id": "192827c9",
   "metadata": {},
   "source": [
    "4. Write a Python Program to calculate the natural logarithm of any number?"
   ]
  },
  {
   "cell_type": "code",
   "execution_count": 5,
   "id": "fc3740fb",
   "metadata": {},
   "outputs": [
    {
     "name": "stdout",
     "output_type": "stream",
     "text": [
      "Enter the number: 65\n",
      "The natural logarithm of 65 is 4.17\n"
     ]
    }
   ],
   "source": [
    "import math\n",
    "number = int(input(\"Enter the number: \"))\n",
    "log = math.log(number)\n",
    "\n",
    "print(\"The natural logarithm of {} is {}\".format(number,round(log,2)))"
   ]
  },
  {
   "cell_type": "markdown",
   "id": "bcbfbd5f",
   "metadata": {},
   "source": [
    "5. Write a Python Program for cube sum of first n natural numbers?"
   ]
  },
  {
   "cell_type": "code",
   "execution_count": 6,
   "id": "b11f8093",
   "metadata": {},
   "outputs": [
    {
     "name": "stdout",
     "output_type": "stream",
     "text": [
      "enter a number :5\n",
      "cube sum of first 5 numbers is 225\n"
     ]
    }
   ],
   "source": [
    "n = int(input('enter a number :'))\n",
    "sum = 0\n",
    "for i in range(1,n+1):\n",
    "    cube = i**3\n",
    "    sum = sum+cube\n",
    "print('cube sum of first', n, 'numbers is', sum)"
   ]
  }
 ],
 "metadata": {
  "kernelspec": {
   "display_name": "Python 3 (ipykernel)",
   "language": "python",
   "name": "python3"
  },
  "language_info": {
   "codemirror_mode": {
    "name": "ipython",
    "version": 3
   },
   "file_extension": ".py",
   "mimetype": "text/x-python",
   "name": "python",
   "nbconvert_exporter": "python",
   "pygments_lexer": "ipython3",
   "version": "3.9.12"
  }
 },
 "nbformat": 4,
 "nbformat_minor": 5
}
