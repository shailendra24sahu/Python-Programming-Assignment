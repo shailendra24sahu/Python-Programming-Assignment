{
 "cells": [
  {
   "cell_type": "markdown",
   "id": "5f5a1758",
   "metadata": {},
   "source": [
    "1. Write a Python Program to find sum of array?"
   ]
  },
  {
   "cell_type": "code",
   "execution_count": 5,
   "id": "965f882a",
   "metadata": {},
   "outputs": [],
   "source": [
    "def sm(arr):\n",
    "    sum = 0\n",
    "    for i in arr:\n",
    "        sum +=i\n",
    "    return sum"
   ]
  },
  {
   "cell_type": "markdown",
   "id": "3a803462",
   "metadata": {},
   "source": [
    "2. Write a Python Program to find largest element in an array?"
   ]
  },
  {
   "cell_type": "code",
   "execution_count": 6,
   "id": "96f8437d",
   "metadata": {},
   "outputs": [
    {
     "data": {
      "text/plain": [
       "23"
      ]
     },
     "execution_count": 6,
     "metadata": {},
     "output_type": "execute_result"
    }
   ],
   "source": [
    "def larg(arr):\n",
    "    max = arr[0]\n",
    "    for i in range(1,len(arr)):\n",
    "        if arr[i] > max:\n",
    "            max = arr[i]\n",
    "    return max\n",
    "\n",
    "larg([2,5,8,4,1,6,9,7,23])"
   ]
  },
  {
   "cell_type": "markdown",
   "id": "7c466dbb",
   "metadata": {},
   "source": [
    "3. Write a Python Program for array rotation?"
   ]
  },
  {
   "cell_type": "code",
   "execution_count": 7,
   "id": "e7d95270",
   "metadata": {},
   "outputs": [
    {
     "name": "stdout",
     "output_type": "stream",
     "text": [
      "origintal array is :  [1, 2, 3, 4, 5, 6, 7]\n",
      "array after rotation is : [3, 4, 5, 6, 7, 1, 2]\n"
     ]
    }
   ],
   "source": [
    "def rotateArray(a,d):\n",
    "    temp = []\n",
    "    n=len(a)\n",
    "    for i in range(d,n):\n",
    "        temp.append(a[i])\n",
    "    i = 0\n",
    "    for i in range (0,d):\n",
    "        temp.append(a[i])\n",
    "    a1=temp.copy()\n",
    "    print('origintal array is : ',a)\n",
    "    print('array after rotation is :',a1)\n",
    " \n",
    "rotateArray(a = [1, 2, 3, 4, 5, 6, 7], d= 2)"
   ]
  },
  {
   "cell_type": "markdown",
   "id": "ac6baabc",
   "metadata": {},
   "source": [
    "4. Write a Python Program to Split the array and add the first part to the end?"
   ]
  },
  {
   "cell_type": "code",
   "execution_count": 8,
   "id": "777e724c",
   "metadata": {},
   "outputs": [],
   "source": [
    "def SplitArray(arr, pos):\n",
    "    length = len(arr)\n",
    "    for i in range(0, pos):\n",
    "        x = arr[0]\n",
    "        for j in range(0, length-1):\n",
    "            arr[j] = arr[j + 1]\n",
    "    \n",
    "        arr[length-1] = x\n",
    "    return arr"
   ]
  },
  {
   "cell_type": "code",
   "execution_count": 9,
   "id": "fe7bf961",
   "metadata": {},
   "outputs": [
    {
     "data": {
      "text/plain": [
       "[4, 5, 6, 1, 2, 3]"
      ]
     },
     "execution_count": 9,
     "metadata": {},
     "output_type": "execute_result"
    }
   ],
   "source": [
    "SplitArray(arr = [1,2,3,4,5,6], pos = 3)"
   ]
  },
  {
   "cell_type": "markdown",
   "id": "4bed2431",
   "metadata": {},
   "source": [
    "5. Write a Python Program to check if given array is Monotonic?"
   ]
  },
  {
   "cell_type": "code",
   "execution_count": 10,
   "id": "b97d24c1",
   "metadata": {},
   "outputs": [
    {
     "name": "stdout",
     "output_type": "stream",
     "text": [
      "True\n",
      "False\n",
      "True\n",
      "True\n"
     ]
    }
   ],
   "source": [
    "def Monotonic_check(a):\n",
    "    n=len(a) \n",
    "    if n==1:\n",
    "        return True\n",
    "    else:\n",
    "        return all(a[i]>=a[i+1] for i in range(n-1)) or all(a[i]<=a[i+1] for i in range(n-1))\n",
    "print(Monotonic_check([5,4,3,2]))\n",
    "print(Monotonic_check([1,2,5,4]))\n",
    "print(Monotonic_check([1,2,3,3]))\n",
    "print(Monotonic_check([2]))"
   ]
  }
 ],
 "metadata": {
  "kernelspec": {
   "display_name": "Python 3 (ipykernel)",
   "language": "python",
   "name": "python3"
  },
  "language_info": {
   "codemirror_mode": {
    "name": "ipython",
    "version": 3
   },
   "file_extension": ".py",
   "mimetype": "text/x-python",
   "name": "python",
   "nbconvert_exporter": "python",
   "pygments_lexer": "ipython3",
   "version": "3.9.12"
  }
 },
 "nbformat": 4,
 "nbformat_minor": 5
}
