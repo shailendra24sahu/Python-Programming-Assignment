{
 "cells": [
  {
   "cell_type": "markdown",
   "id": "1bfd365c",
   "metadata": {},
   "source": [
    "Question 1:\n",
    "Write a program that calculates and prints the value according to the given formula:\n",
    "Q = Square root of [(2 * C * D)/H]\n",
    "Following are the fixed values of C and H:\n",
    "C is 50. H is 30.\n",
    "D is the variable whose values should be input to your program in a comma-separated\n",
    "sequence.\n",
    "Example\n",
    "Let us assume the following comma separated input sequence is given to the program:\n",
    "100,150,180\n",
    "The output of the program should be:\n",
    "18,22,24"
   ]
  },
  {
   "cell_type": "code",
   "execution_count": 14,
   "id": "b9187dab",
   "metadata": {},
   "outputs": [],
   "source": [
    "C = 50 \n",
    "H = 30\n",
    "D = [100,150,180]"
   ]
  },
  {
   "cell_type": "code",
   "execution_count": 15,
   "id": "a3b8938e",
   "metadata": {},
   "outputs": [
    {
     "name": "stdout",
     "output_type": "stream",
     "text": [
      "18\n",
      "22\n",
      "24\n"
     ]
    }
   ],
   "source": [
    "import math\n",
    "for i in D:\n",
    "    print(round(math.sqrt(2 * C * i/H)))"
   ]
  },
  {
   "cell_type": "code",
   "execution_count": null,
   "id": "8bf2b383",
   "metadata": {},
   "outputs": [],
   "source": []
  },
  {
   "cell_type": "markdown",
   "id": "74e09f59",
   "metadata": {},
   "source": [
    "Question 2:\n",
    "Write a program which takes 2 digits, X,Y as input and generates a 2-dimensional array. The\n",
    "element value in the i-th row and j-th column of the array should be i*j."
   ]
  },
  {
   "cell_type": "markdown",
   "id": "3303123d",
   "metadata": {},
   "source": [
    "Example\n",
    "Suppose the following inputs are given to the program:\n",
    "3,5\n",
    "Then, the output of the program should be:\n",
    "[[0, 0, 0, 0, 0], [0, 1, 2, 3, 4], [0, 2, 4, 6, 8]]"
   ]
  },
  {
   "cell_type": "code",
   "execution_count": 8,
   "id": "ec33f319",
   "metadata": {},
   "outputs": [
    {
     "name": "stdout",
     "output_type": "stream",
     "text": [
      "Enter the number of rows: 3\n",
      "Enter the number of columns: 5\n",
      "[[0, 0, 0, 0, 0], [0, 1, 2, 3, 4], [0, 2, 4, 6, 8]]\n"
     ]
    }
   ],
   "source": [
    "X = int(input(\"Enter the number of rows: \"))\n",
    "Y = int(input(\"Enter the number of columns: \"))\n",
    "\n",
    "# Create a 2-dimensional array\n",
    "array = [[0 for j in range(Y)] for i in range(X)]\n",
    "\n",
    "# Fill the array with values\n",
    "for i in range(X):\n",
    "    for j in range(Y):\n",
    "        array[i][j] = i * j\n",
    "\n",
    "print(array)"
   ]
  },
  {
   "cell_type": "code",
   "execution_count": null,
   "id": "365e5bfd",
   "metadata": {},
   "outputs": [],
   "source": []
  },
  {
   "cell_type": "markdown",
   "id": "3670cf64",
   "metadata": {},
   "source": [
    "Question 3:\n",
    "Write a program that accepts a comma separated sequence of words as input and prints the\n",
    "words in a comma-separated sequence after sorting them alphabetically."
   ]
  },
  {
   "cell_type": "code",
   "execution_count": 9,
   "id": "7befd7ba",
   "metadata": {},
   "outputs": [
    {
     "name": "stdout",
     "output_type": "stream",
     "text": [
      "Enter a comma-separated sequence of words: without,hello,bag,world\n",
      "bag,hello,without,world\n"
     ]
    }
   ],
   "source": [
    "input_str = input(\"Enter a comma-separated sequence of words: \")\n",
    "\n",
    "# Split the input string into a list of words\n",
    "words = input_str.split(\",\")\n",
    "\n",
    "# Sort the list of words alphabetically\n",
    "sorted_words = sorted(words)\n",
    "\n",
    "# Join the sorted words back into a comma-separated string\n",
    "output_str = \",\".join(sorted_words)\n",
    "\n",
    "# Print the sorted string\n",
    "print(output_str)\n"
   ]
  },
  {
   "cell_type": "code",
   "execution_count": null,
   "id": "26fdd779",
   "metadata": {},
   "outputs": [],
   "source": []
  },
  {
   "cell_type": "markdown",
   "id": "814fcd7c",
   "metadata": {},
   "source": [
    "Question 4:\n",
    "Write a program that accepts a sequence of whitespace separated words as input and prints\n",
    "the words after removing all duplicate words and sorting them alphanumerically."
   ]
  },
  {
   "cell_type": "code",
   "execution_count": 10,
   "id": "e012fa13",
   "metadata": {},
   "outputs": [
    {
     "name": "stdout",
     "output_type": "stream",
     "text": [
      "Enter a sequence of whitespace-separated words: hello world and practice makes perfect and hello world again\n",
      "again and hello makes perfect practice world\n"
     ]
    }
   ],
   "source": [
    "input_str = input(\"Enter a sequence of whitespace-separated words: \")\n",
    "\n",
    "# Split the input string into a list of words\n",
    "words = input_str.split()\n",
    "\n",
    "# Remove duplicates from the list of words\n",
    "unique_words = list(set(words))\n",
    "\n",
    "# Sort the list of unique words alphabetically\n",
    "sorted_words = sorted(unique_words)\n",
    "\n",
    "# Join the sorted words back into a whitespace-separated string\n",
    "output_str = \" \".join(sorted_words)\n",
    "\n",
    "# Print the sorted string\n",
    "print(output_str)"
   ]
  },
  {
   "cell_type": "code",
   "execution_count": null,
   "id": "a820836b",
   "metadata": {},
   "outputs": [],
   "source": []
  },
  {
   "cell_type": "markdown",
   "id": "23555386",
   "metadata": {},
   "source": [
    "Question 5:\n",
    "Write a program that accepts a sentence and calculate the number of letters and digits."
   ]
  },
  {
   "cell_type": "code",
   "execution_count": 14,
   "id": "7b7d03a9",
   "metadata": {},
   "outputs": [
    {
     "name": "stdout",
     "output_type": "stream",
     "text": [
      "Enter a sentence: hello world! 123\n",
      "Number of letters: 10\n",
      "Number of digits: 3\n"
     ]
    }
   ],
   "source": [
    "input_str = input(\"Enter a sentence: \")\n",
    "\n",
    "# Initialize counters for letters and digits\n",
    "num_letters = 0\n",
    "num_digits = 0\n",
    "\n",
    "\n",
    "for char in input_str:\n",
    "    if char.isalpha():\n",
    "        num_letters += 1\n",
    "    elif char.isdigit():\n",
    "        num_digits += 1\n",
    "\n",
    "\n",
    "print(\"Number of letters:\", num_letters)\n",
    "print(\"Number of digits:\", num_digits)"
   ]
  },
  {
   "cell_type": "code",
   "execution_count": null,
   "id": "17be967e",
   "metadata": {},
   "outputs": [],
   "source": []
  },
  {
   "cell_type": "markdown",
   "id": "bce33f56",
   "metadata": {},
   "source": [
    "Question 6:\n",
    "A website requires the users to input username and password to register. Write a program to\n",
    "check the validity of password input by users.\n",
    "Following are the criteria for checking the password:\n",
    "1. At least 1 letter between [a-z]\n",
    "2. At least 1 number between [0-9]\n",
    "1. At least 1 letter between [A-Z]\n",
    "3. At least 1 character from [$#@]\n",
    "4. Minimum length of transaction password: 6\n",
    "5. Maximum length of transaction password: 12\n",
    "Your program should accept a sequence of comma separated passwords and will check them\n",
    "according to the above criteria. Passwords that match the criteria are to be printed, each\n",
    "separated by a comma."
   ]
  },
  {
   "cell_type": "markdown",
   "id": "802ff43f",
   "metadata": {},
   "source": [
    "Example\n",
    "If the following passwords are given as input to the program:\n",
    "ABd1234@1,a F1#,2w3E*,2We3345\n",
    "Then, the output of the program should be:\n",
    "ABd1234@1"
   ]
  },
  {
   "cell_type": "code",
   "execution_count": 15,
   "id": "cc919701",
   "metadata": {},
   "outputs": [
    {
     "name": "stdout",
     "output_type": "stream",
     "text": [
      "Enter comma separated passwords: ABd1234@1,a F1#,2w3E*,2We3345\n",
      "ABd1234@1\n"
     ]
    }
   ],
   "source": [
    "import re\n",
    "\n",
    "passwords = input(\"Enter comma separated passwords: \")\n",
    "password_list = passwords.split(',')\n",
    "\n",
    "valid_passwords = []\n",
    "\n",
    "for password in password_list:\n",
    "    if len(password) < 6 or len(password) > 12:\n",
    "        continue\n",
    "    elif not re.search(\"[a-z]\", password):\n",
    "        continue\n",
    "    elif not re.search(\"[0-9]\", password):\n",
    "        continue\n",
    "    elif not re.search(\"[A-Z]\", password):\n",
    "        continue\n",
    "    elif not re.search(\"[$#@]\", password):\n",
    "        continue\n",
    "    else:\n",
    "        valid_passwords.append(password)\n",
    "\n",
    "print(\",\".join(valid_passwords))"
   ]
  },
  {
   "cell_type": "code",
   "execution_count": null,
   "id": "4bed7c2e",
   "metadata": {},
   "outputs": [],
   "source": []
  }
 ],
 "metadata": {
  "kernelspec": {
   "display_name": "Python 3 (ipykernel)",
   "language": "python",
   "name": "python3"
  },
  "language_info": {
   "codemirror_mode": {
    "name": "ipython",
    "version": 3
   },
   "file_extension": ".py",
   "mimetype": "text/x-python",
   "name": "python",
   "nbconvert_exporter": "python",
   "pygments_lexer": "ipython3",
   "version": "3.9.12"
  }
 },
 "nbformat": 4,
 "nbformat_minor": 5
}
